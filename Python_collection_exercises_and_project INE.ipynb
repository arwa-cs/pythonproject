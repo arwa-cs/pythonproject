{
 "cells": [
  {
   "cell_type": "markdown",
   "id": "97d938f8-de40-40c1-a81c-03f2aaeebb88",
   "metadata": {},
   "source": [
    "## Exercises "
   ]
  },
  {
   "cell_type": "markdown",
   "id": "933aac6b-2f5f-4e10-a08b-0fc6f1b17d93",
   "metadata": {
    "jp-MarkdownHeadingCollapsed": true
   },
   "source": [
    "## **String** "
   ]
  },
  {
   "cell_type": "markdown",
   "id": "7876ade3-3b8d-4113-8d71-11d874a4f762",
   "metadata": {},
   "source": [
    "**Immutable*"
   ]
  },
  {
   "cell_type": "code",
   "execution_count": 2,
   "id": "7c5db03d-4039-4a98-84cf-9a1db113391d",
   "metadata": {},
   "outputs": [
    {
     "name": "stdout",
     "output_type": "stream",
     "text": [
      "\"          Hello\"\n"
     ]
    }
   ],
   "source": [
    "print('\"{:>15}\"'.format(\"Hello\"))"
   ]
  },
  {
   "cell_type": "code",
   "execution_count": 3,
   "id": "796aeb5f-d930-4b3e-9b61-42c4f9a94032",
   "metadata": {},
   "outputs": [
    {
     "name": "stdout",
     "output_type": "stream",
     "text": [
      "\"Hello          \"\n"
     ]
    }
   ],
   "source": [
    "print('\"{:<15}\"'.format(\"Hello\"))"
   ]
  },
  {
   "cell_type": "code",
   "execution_count": 4,
   "id": "d55532e6-c1fc-4e70-9f44-fbb2ba268fff",
   "metadata": {},
   "outputs": [
    {
     "name": "stdout",
     "output_type": "stream",
     "text": [
      "\"     Hello     \"\n"
     ]
    }
   ],
   "source": [
    "print('\"{:^15}\"'.format(\"Hello\"))"
   ]
  },
  {
   "cell_type": "code",
   "execution_count": 5,
   "id": "6d965040-072a-4426-8ed7-bcaefddd3acf",
   "metadata": {},
   "outputs": [
    {
     "name": "stdout",
     "output_type": "stream",
     "text": [
      "\"@@@@@Hello@@@@@\"\n"
     ]
    }
   ],
   "source": [
    "print('\"{:@^15}\"'.format(\"Hello\"))"
   ]
  },
  {
   "cell_type": "code",
   "execution_count": 8,
   "id": "9f2b9afb-7e8c-4b3d-b549-0588c09ad3ac",
   "metadata": {},
   "outputs": [
    {
     "name": "stdout",
     "output_type": "stream",
     "text": [
      "1.62\n"
     ]
    }
   ],
   "source": [
    "phi = 1.618033\n",
    "print(\"{:03.2f}\".format(phi))"
   ]
  },
  {
   "cell_type": "markdown",
   "id": "672e5cea-11ad-424c-9ea2-5f26a72cb7e3",
   "metadata": {
    "jp-MarkdownHeadingCollapsed": true
   },
   "source": [
    "## **Lists**"
   ]
  },
  {
   "cell_type": "markdown",
   "id": "fc736de4-39e2-407a-b31b-4f2f9a36bd6f",
   "metadata": {},
   "source": [
    "*mutable*"
   ]
  },
  {
   "cell_type": "code",
   "execution_count": 20,
   "id": "f80c0b1a-766d-4523-a593-ad716d73491a",
   "metadata": {},
   "outputs": [
    {
     "data": {
      "text/plain": [
       "['c', 'e', 'j']"
      ]
     },
     "execution_count": 20,
     "metadata": {},
     "output_type": "execute_result"
    }
   ],
   "source": [
    "l = [\"a\", \"b\", \"c\", \"d\", \"e\", \"f\", \"j\", \"h\"]\n",
    "#     0    1    2    3    4    5    6    7\n",
    "\n",
    "l[2:7:2]"
   ]
  },
  {
   "cell_type": "code",
   "execution_count": 21,
   "id": "506bf1b5-980a-4d70-8042-6104e39db846",
   "metadata": {},
   "outputs": [
    {
     "data": {
      "text/plain": [
       "['a', 'd', 'j']"
      ]
     },
     "execution_count": 21,
     "metadata": {},
     "output_type": "execute_result"
    }
   ],
   "source": [
    "l = [\"a\", \"b\", \"c\", \"d\", \"e\", \"f\", \"j\", \"h\"]\n",
    "#     0    1    2    3    4    5    6    7\n",
    "\n",
    "l[::3]"
   ]
  },
  {
   "cell_type": "code",
   "execution_count": 27,
   "id": "6555d036-5547-4b05-920c-74b171f393dd",
   "metadata": {},
   "outputs": [
    {
     "data": {
      "text/plain": [
       "[True, 'welcome', 100, 'this append']"
      ]
     },
     "execution_count": 27,
     "metadata": {},
     "output_type": "execute_result"
    }
   ],
   "source": [
    "l = [True, \"welcome\", 100]\n",
    "l.append(\"this append\")\n",
    "l"
   ]
  },
  {
   "cell_type": "code",
   "execution_count": 28,
   "id": "9dd9d010-7339-4799-b1bb-d66676638676",
   "metadata": {},
   "outputs": [
    {
     "data": {
      "text/plain": [
       "[True, 'welcome', 'to my notebook', 100, 'this append']"
      ]
     },
     "execution_count": 28,
     "metadata": {},
     "output_type": "execute_result"
    }
   ],
   "source": [
    "l.insert(2, \"to my notebook\")\n",
    "l"
   ]
  },
  {
   "cell_type": "code",
   "execution_count": 42,
   "id": "1fc582b8-90d1-425d-9f76-ee3d96089b28",
   "metadata": {},
   "outputs": [
    {
     "data": {
      "text/plain": [
       "[True, 'welcome', 'to my notebook', 'this append']"
      ]
     },
     "execution_count": 42,
     "metadata": {},
     "output_type": "execute_result"
    }
   ],
   "source": [
    "l.remove(100)\n",
    "l"
   ]
  },
  {
   "cell_type": "code",
   "execution_count": 43,
   "id": "9b2e16e4-113f-4cf3-bdda-5f425e464f0f",
   "metadata": {},
   "outputs": [
    {
     "data": {
      "text/plain": [
       "['welcome', 'to my notebook', 'this append']"
      ]
     },
     "execution_count": 43,
     "metadata": {},
     "output_type": "execute_result"
    }
   ],
   "source": [
    "l.pop(0)\n",
    "l"
   ]
  },
  {
   "cell_type": "code",
   "execution_count": 34,
   "id": "5ee970c6-83ca-46d4-be7b-10504fe7778d",
   "metadata": {},
   "outputs": [
    {
     "data": {
      "text/plain": [
       "['element_1 from list_1',\n",
       " 'element_2 from list_1',\n",
       " 'element_3 from list_1',\n",
       " 'element_1 from list_2',\n",
       " 'element_2 from list_2']"
      ]
     },
     "execution_count": 34,
     "metadata": {},
     "output_type": "execute_result"
    }
   ],
   "source": [
    "l1 = [\"element_1 from list_1\" , \"element_2 from list_1\", \"element_3 from list_1\"]\n",
    "l2 = [\"element_1 from list_2\", \"element_2 from list_2\"]\n",
    "\n",
    "l1.extend(l2) # mutable - change the orignal lists\n",
    "l1"
   ]
  },
  {
   "cell_type": "code",
   "execution_count": 35,
   "id": "dd257742-304f-4d65-ac24-8362326fcc72",
   "metadata": {},
   "outputs": [
    {
     "data": {
      "text/plain": [
       "['element_1 from list_1',\n",
       " 'element_2 from list_1',\n",
       " 'element_3 from list_1',\n",
       " 'element_1 from list_2',\n",
       " 'element_2 from list_2',\n",
       " 'concatenation from list concat']"
      ]
     },
     "execution_count": 35,
     "metadata": {},
     "output_type": "execute_result"
    }
   ],
   "source": [
    "concat_list = [\"concatenation from list concat\"] # immutable - craete a new list *SAFER to avoid change*\n",
    "\n",
    "new_list = l1 + concat_list\n",
    "new_list"
   ]
  },
  {
   "cell_type": "code",
   "execution_count": 38,
   "id": "ff3e0501-c017-4f87-8f17-719001b3df54",
   "metadata": {},
   "outputs": [
    {
     "data": {
      "text/plain": [
       "True"
      ]
     },
     "execution_count": 38,
     "metadata": {},
     "output_type": "execute_result"
    }
   ],
   "source": [
    "'element_1 from list_1' in l1"
   ]
  },
  {
   "cell_type": "code",
   "execution_count": 41,
   "id": "d09beb65-a66e-4bc5-aa29-2d792e0ed2dc",
   "metadata": {},
   "outputs": [
    {
     "data": {
      "text/plain": [
       "(False, 2)"
      ]
     },
     "execution_count": 41,
     "metadata": {},
     "output_type": "execute_result"
    }
   ],
   "source": [
    "'element_4 from list_10' in l1 , l1.index('element_3 from list_1')"
   ]
  },
  {
   "cell_type": "markdown",
   "id": "b1b56a7e-334a-4509-b1da-4712240241b8",
   "metadata": {},
   "source": [
    "Exercise 1 : Write a Python program to multiply all the items in a list."
   ]
  },
  {
   "cell_type": "code",
   "execution_count": 45,
   "id": "e6f79475-5f9d-4da5-bdad-fabc6a7cd902",
   "metadata": {},
   "outputs": [
    {
     "name": "stdout",
     "output_type": "stream",
     "text": [
      "362880\n"
     ]
    }
   ],
   "source": [
    "lis = [1,2,3,4,5,6,7,8,9]\n",
    "x = 1\n",
    "for num in lis:\n",
    "    x *= num\n",
    "print(x)"
   ]
  },
  {
   "cell_type": "markdown",
   "id": "1134088b-dd02-45f2-8fac-8e933db81e6b",
   "metadata": {},
   "source": [
    "Exercise 2 : Write a Python program to count the number of strings from a given list of strings. The string length is 2 or more and the first and last characters are the same.\n",
    "Sample List : ['abc', 'xyz', 'aba', '1221']\n",
    "Expected Result : 2"
   ]
  },
  {
   "cell_type": "code",
   "execution_count": 48,
   "id": "25f2ef0d-da26-486f-baa8-e43aabd86b21",
   "metadata": {},
   "outputs": [
    {
     "name": "stdout",
     "output_type": "stream",
     "text": [
      "3\n"
     ]
    }
   ],
   "source": [
    "lis_str = ['eye','egg','mam','1001'] # Expected Result : 3 eye mam 1001\n",
    "count = 0\n",
    "for str in lis_str:\n",
    "    if len(str) >= 2:\n",
    "        if str[0] == str[-1]:\n",
    "            count += 1\n",
    "\n",
    "print(count)"
   ]
  },
  {
   "cell_type": "markdown",
   "id": "50cf508d-16de-4c1c-ae7c-ae9817bd9835",
   "metadata": {},
   "source": [
    "Exercise 3 : Write a Python function that takes two lists and returns True if they have at least one common member."
   ]
  },
  {
   "cell_type": "code",
   "execution_count": 55,
   "id": "15ba6d94-7da0-4c18-b4e2-8980242db451",
   "metadata": {},
   "outputs": [
    {
     "data": {
      "text/plain": [
       "True"
      ]
     },
     "execution_count": 55,
     "metadata": {},
     "output_type": "execute_result"
    }
   ],
   "source": [
    "lis1 = [1,2,3,4,5]\n",
    "lis2 = [5,6,7,8,9]\n",
    "\n",
    "def common_member(list1 , list2):\n",
    "    for i in list1:\n",
    "        if i in list2:\n",
    "            return True\n",
    "    return False\n",
    "\n",
    "common_member(lis1, lis2)"
   ]
  },
  {
   "cell_type": "markdown",
   "id": "ef73a4f2-2640-4afc-8ae3-2e8460923a96",
   "metadata": {},
   "source": [
    "Tuple - **Immutable**"
   ]
  },
  {
   "cell_type": "markdown",
   "id": "eada0786-d8ba-499d-be06-5c37d0d9da6e",
   "metadata": {
    "jp-MarkdownHeadingCollapsed": true
   },
   "source": [
    "## Iterating Lists"
   ]
  },
  {
   "cell_type": "code",
   "execution_count": 61,
   "id": "1b9962e1-e9e0-4724-9edc-04c1fa4a514f",
   "metadata": {},
   "outputs": [],
   "source": [
    "new_hires = [('Mark Adams', 'SQL Analyst', 4000),\n",
    "             ('Leslie Burton', 'HR Specialist', 2300),\n",
    "             ('Dorothy Castillo', 'UX Designer', 3100)]\n",
    "\n",
    "for index, (name, job, salary) in enumerate(new_hires):\n",
    "    if \"SQL\" in job:\n",
    "        new_hires.remove(new_hires[index])"
   ]
  },
  {
   "cell_type": "code",
   "execution_count": 62,
   "id": "cb371a90-f161-4a0f-acf1-7f6e394278f5",
   "metadata": {},
   "outputs": [
    {
     "data": {
      "text/plain": [
       "[('Leslie Burton', 'HR Specialist', 2300),\n",
       " ('Dorothy Castillo', 'UX Designer', 3100)]"
      ]
     },
     "execution_count": 62,
     "metadata": {},
     "output_type": "execute_result"
    }
   ],
   "source": [
    "new_hires"
   ]
  },
  {
   "cell_type": "markdown",
   "id": "c142d564-5ed9-4815-a30e-b3e52bdd3383",
   "metadata": {
    "jp-MarkdownHeadingCollapsed": true
   },
   "source": [
    "## Dict"
   ]
  },
  {
   "cell_type": "markdown",
   "id": "561fc066-a91c-4300-b618-5fdca31f6554",
   "metadata": {},
   "source": [
    "Exercise 1 : Create a dictionary from a list: Create a dictionary from a list of tuples, where each tuple represents a key-value pair."
   ]
  },
  {
   "cell_type": "code",
   "execution_count": 64,
   "id": "f570e26c-383d-485c-b801-954572365f5d",
   "metadata": {},
   "outputs": [
    {
     "data": {
      "text/plain": [
       "dict"
      ]
     },
     "execution_count": 64,
     "metadata": {},
     "output_type": "execute_result"
    }
   ],
   "source": [
    "data = [(\"name\", \"Alice\"), (\"age\", 30), (\"city\", \"New York\")]\n",
    "d = dict(data)\n",
    "type(d)"
   ]
  },
  {
   "cell_type": "code",
   "execution_count": 65,
   "id": "eb6c84c7-73a7-488c-ae80-6b4c0d3f631d",
   "metadata": {},
   "outputs": [
    {
     "data": {
      "text/plain": [
       "{'name': 'Alice', 'age': 30, 'city': 'New York'}"
      ]
     },
     "execution_count": 65,
     "metadata": {},
     "output_type": "execute_result"
    }
   ],
   "source": [
    "d"
   ]
  },
  {
   "cell_type": "markdown",
   "id": "7010122e-128d-41ec-80c2-fad5b128ed82",
   "metadata": {},
   "source": [
    "Exercise 2 : Find the key with the maximum or minimum value: Find the key associated with the largest or smallest value in the dictionary."
   ]
  },
  {
   "cell_type": "code",
   "execution_count": 70,
   "id": "1007814f-e24c-4f52-aa5c-e20237329165",
   "metadata": {},
   "outputs": [
    {
     "data": {
      "text/plain": [
       "('Alice', 95)"
      ]
     },
     "execution_count": 70,
     "metadata": {},
     "output_type": "execute_result"
    }
   ],
   "source": [
    "scores = {\"Alice\": 95, \"Bob\": 88, \"Charlie\": 92}\n",
    "\n",
    "max_val = 0\n",
    "max_key = None\n",
    "for key in scores:\n",
    "    if scores[key] > max_val:\n",
    "        max_val = scores[key]\n",
    "        max_key = key\n",
    "\n",
    "max_key, max_val"
   ]
  },
  {
   "cell_type": "markdown",
   "id": "477d1071-bd59-4b9f-bfa2-c8aaa1cfc402",
   "metadata": {
    "jp-MarkdownHeadingCollapsed": true
   },
   "source": [
    "## PROJECT"
   ]
  },
  {
   "cell_type": "code",
   "execution_count": 73,
   "id": "6b932f94-dc08-40af-9d0d-104c3b790357",
   "metadata": {},
   "outputs": [],
   "source": [
    "import csv\n",
    "\n",
    "\n",
    "def read_squad_file(file_name):\n",
    "    squad = []\n",
    "    with open(file_name) as fp:\n",
    "        reader = csv.reader(fp)\n",
    "        for line in reader:\n",
    "            squad.append(line)\n",
    "\n",
    "    return squad"
   ]
  },
  {
   "cell_type": "code",
   "execution_count": 68,
   "id": "d9ec1a3f-e15e-4c37-bf86-cf7055b44571",
   "metadata": {},
   "outputs": [],
   "source": [
    "SQUADS_DATA = [\n",
    "  [\n",
    "    \"1\",\n",
    "    \"GK\",\n",
    "    \"Juan Botasso\",\n",
    "    \"(1908-10-23)23 October 1908 (aged 21)\",\n",
    "    \"\",\n",
    "    \"Quilmes\",\n",
    "    \"Argentina\",\n",
    "    \"Argentina\",\n",
    "    \"1930\"\n",
    "  ],\n",
    "  [\n",
    "    \"9\",\n",
    "    \"FW\",\n",
    "    \"Roberto Cherro\",\n",
    "    \"(1907-02-23)23 February 1907 (aged 23)\",\n",
    "    \"\",\n",
    "    \"Boca Juniors\",\n",
    "    \"Argentina\",\n",
    "    \"Argentina\",\n",
    "    \"1930\"\n",
    "  ],\n",
    "  [\n",
    "    \"-\",\n",
    "    \"MF\",\n",
    "    \"Pierre Braine\",\n",
    "    \"(1900-10-26)26 October 1900 (aged 29)\",\n",
    "    \"42\",\n",
    "    \"Royal Beerschot AC\",\n",
    "    \"Belgium\",\n",
    "    \"Belgium\",\n",
    "    \"1930\"\n",
    "  ],\n",
    "  [\n",
    "    \"-\",\n",
    "    \"MF\",\n",
    "    \"Alexis Chantraine\",\n",
    "    \"(1901-03-16)16 March 1901 (aged 29)\",\n",
    "    \"0\",\n",
    "    \"Royal FC Liegeois\",\n",
    "    \"Belgium\",\n",
    "    \"Belgium\",\n",
    "    \"1930\"\n",
    "  ],\n",
    "  [\n",
    "    \"-\",\n",
    "    \"GK\",\n",
    "    \"Jean De Bie\",\n",
    "    \"(1892-05-09)9 May 1892 (aged 38)\",\n",
    "    \"37\",\n",
    "    \"Royal Racing Club de Bruxelles\",\n",
    "    \"Belgium\",\n",
    "    \"Belgium\",\n",
    "    \"1930\"\n",
    "  ],\n",
    "  [\n",
    "    \"-\",\n",
    "    \"MF\",\n",
    "    \"Oscar\",\n",
    "    \"(1991-09-09)9 September 1991 (aged 22)\",\n",
    "    \"29\",\n",
    "    \"Chelsea\",\n",
    "    \"Brazil\",\n",
    "    \"England\",\n",
    "    \"2010\"\n",
    "  ],\n",
    "  [\n",
    "    \"-\",\n",
    "    \"MF\",\n",
    "    \"Paulinho\",\n",
    "    \"(1988-07-25)25 July 1988 (aged 25)\",\n",
    "    \"25\",\n",
    "    \"Tottenham Hotspur\",\n",
    "    \"Brazil\",\n",
    "    \"England\",\n",
    "    \"2010\"\n",
    "  ],\n",
    "  [\n",
    "    \"-\",\n",
    "    \"MF\",\n",
    "    \"Hernanes\",\n",
    "    \"(1985-05-29)29 May 1985 (aged 29)\",\n",
    "    \"23\",\n",
    "    \"Internazionale\",\n",
    "    \"Brazil\",\n",
    "    \"Italy\",\n",
    "    \"2014\"\n",
    "  ],\n",
    "  [\n",
    "    \"-\",\n",
    "    \"MF\",\n",
    "    \"Luiz Gustavo\",\n",
    "    \"(1987-07-23)23 July 1987 (aged 26)\",\n",
    "    \"17\",\n",
    "    \"VfL Wolfsburg\",\n",
    "    \"Brazil\",\n",
    "    \"Germany\",\n",
    "    \"2014\"\n",
    "  ],\n",
    "  [\n",
    "    \"-\",\n",
    "    \"MF\",\n",
    "    \"Fernandinho\",\n",
    "    \"(1985-05-04)4 May 1985 (aged 29)\",\n",
    "    \"6\",\n",
    "    \"Manchester City\",\n",
    "    \"Brazil\",\n",
    "    \"England\",\n",
    "    \"2014\"\n",
    "  ],\n",
    "  [\n",
    "    \"-\",\n",
    "    \"MF\",\n",
    "    \"Willian\",\n",
    "    \"(1988-08-09)9 August 1988 (aged 25)\",\n",
    "    \"5\",\n",
    "    \"Chelsea\",\n",
    "    \"Brazil\",\n",
    "    \"England\",\n",
    "    \"2014\"\n",
    "  ],\n",
    "  [\n",
    "    \"-\",\n",
    "    \"FW\",\n",
    "    \"Lee Keun-Ho\",\n",
    "    \"(1985-04-11)11 April 1985 (aged 29)\",\n",
    "    \"62\",\n",
    "    \"Sangju Sangmu\",\n",
    "    \"South Korea\",\n",
    "    \"South Korea\",\n",
    "    \"2014\"\n",
    "  ],\n",
    "  [\n",
    "    \"-\",\n",
    "    \"FW\",\n",
    "    \"Koo Ja-Cheol\",\n",
    "    \"(1989-02-27)27 February 1989 (aged 25)\",\n",
    "    \"35\",\n",
    "    \"Mainz 05\",\n",
    "    \"South Korea\",\n",
    "    \"Germany\",\n",
    "    \"2014\"\n",
    "  ],\n",
    "  [\n",
    "    \"-\",\n",
    "    \"FW\",\n",
    "    \"Kim Shin-Wook\",\n",
    "    \"(1988-04-14)14 April 1988 (aged 26)\",\n",
    "    \"26\",\n",
    "    \"Ulsan Hyundai\",\n",
    "    \"South Korea\",\n",
    "    \"South Korea\",\n",
    "    \"2014\"\n",
    "  ]\n",
    "]"
   ]
  },
  {
   "cell_type": "markdown",
   "id": "3664001b-1995-4dab-8cb5-13099f0d2a4e",
   "metadata": {},
   "source": [
    "Assignment 1 - Lists to Dicts\n"
   ]
  },
  {
   "cell_type": "code",
   "execution_count": 69,
   "id": "6a9186ac-2d2d-4de4-bf87-d2b76c48e6a7",
   "metadata": {},
   "outputs": [],
   "source": [
    "def players_as_dictionaries(lists):\n",
    "    players = []\n",
    "    for player in lists:\n",
    "        player_dict = {\n",
    "            'number': player[0],\n",
    "            'position': player[1],\n",
    "            'name': player[2],\n",
    "            'date_of_birth': player[3],\n",
    "            'caps': player[4],\n",
    "            'club': player[5],\n",
    "            'country': player[6],\n",
    "            'club_country':player[7],\n",
    "            'year': player[8]\n",
    "        }\n",
    "        players.append(player_dict)\n",
    "    return players"
   ]
  },
  {
   "cell_type": "code",
   "execution_count": 70,
   "id": "e90cd5eb-582b-4bc2-9b0b-848d247ec0e5",
   "metadata": {},
   "outputs": [
    {
     "data": {
      "text/plain": [
       "[{'number': '1',\n",
       "  'position': 'GK',\n",
       "  'name': 'Juan Botasso',\n",
       "  'date_of_birth': '(1908-10-23)23 October 1908 (aged 21)',\n",
       "  'caps': '',\n",
       "  'club': 'Quilmes',\n",
       "  'country': 'Argentina',\n",
       "  'club_country': 'Argentina',\n",
       "  'year': '1930'},\n",
       " {'number': '9',\n",
       "  'position': 'FW',\n",
       "  'name': 'Roberto Cherro',\n",
       "  'date_of_birth': '(1907-02-23)23 February 1907 (aged 23)',\n",
       "  'caps': '',\n",
       "  'club': 'Boca Juniors',\n",
       "  'country': 'Argentina',\n",
       "  'club_country': 'Argentina',\n",
       "  'year': '1930'},\n",
       " {'number': '-',\n",
       "  'position': 'MF',\n",
       "  'name': 'Pierre Braine',\n",
       "  'date_of_birth': '(1900-10-26)26 October 1900 (aged 29)',\n",
       "  'caps': '42',\n",
       "  'club': 'Royal Beerschot AC',\n",
       "  'country': 'Belgium',\n",
       "  'club_country': 'Belgium',\n",
       "  'year': '1930'},\n",
       " {'number': '-',\n",
       "  'position': 'MF',\n",
       "  'name': 'Alexis Chantraine',\n",
       "  'date_of_birth': '(1901-03-16)16 March 1901 (aged 29)',\n",
       "  'caps': '0',\n",
       "  'club': 'Royal FC Liegeois',\n",
       "  'country': 'Belgium',\n",
       "  'club_country': 'Belgium',\n",
       "  'year': '1930'},\n",
       " {'number': '-',\n",
       "  'position': 'GK',\n",
       "  'name': 'Jean De Bie',\n",
       "  'date_of_birth': '(1892-05-09)9 May 1892 (aged 38)',\n",
       "  'caps': '37',\n",
       "  'club': 'Royal Racing Club de Bruxelles',\n",
       "  'country': 'Belgium',\n",
       "  'club_country': 'Belgium',\n",
       "  'year': '1930'},\n",
       " {'number': '-',\n",
       "  'position': 'MF',\n",
       "  'name': 'Oscar',\n",
       "  'date_of_birth': '(1991-09-09)9 September 1991 (aged 22)',\n",
       "  'caps': '29',\n",
       "  'club': 'Chelsea',\n",
       "  'country': 'Brazil',\n",
       "  'club_country': 'England',\n",
       "  'year': '2010'},\n",
       " {'number': '-',\n",
       "  'position': 'MF',\n",
       "  'name': 'Paulinho',\n",
       "  'date_of_birth': '(1988-07-25)25 July 1988 (aged 25)',\n",
       "  'caps': '25',\n",
       "  'club': 'Tottenham Hotspur',\n",
       "  'country': 'Brazil',\n",
       "  'club_country': 'England',\n",
       "  'year': '2010'},\n",
       " {'number': '-',\n",
       "  'position': 'MF',\n",
       "  'name': 'Hernanes',\n",
       "  'date_of_birth': '(1985-05-29)29 May 1985 (aged 29)',\n",
       "  'caps': '23',\n",
       "  'club': 'Internazionale',\n",
       "  'country': 'Brazil',\n",
       "  'club_country': 'Italy',\n",
       "  'year': '2014'},\n",
       " {'number': '-',\n",
       "  'position': 'MF',\n",
       "  'name': 'Luiz Gustavo',\n",
       "  'date_of_birth': '(1987-07-23)23 July 1987 (aged 26)',\n",
       "  'caps': '17',\n",
       "  'club': 'VfL Wolfsburg',\n",
       "  'country': 'Brazil',\n",
       "  'club_country': 'Germany',\n",
       "  'year': '2014'},\n",
       " {'number': '-',\n",
       "  'position': 'MF',\n",
       "  'name': 'Fernandinho',\n",
       "  'date_of_birth': '(1985-05-04)4 May 1985 (aged 29)',\n",
       "  'caps': '6',\n",
       "  'club': 'Manchester City',\n",
       "  'country': 'Brazil',\n",
       "  'club_country': 'England',\n",
       "  'year': '2014'},\n",
       " {'number': '-',\n",
       "  'position': 'MF',\n",
       "  'name': 'Willian',\n",
       "  'date_of_birth': '(1988-08-09)9 August 1988 (aged 25)',\n",
       "  'caps': '5',\n",
       "  'club': 'Chelsea',\n",
       "  'country': 'Brazil',\n",
       "  'club_country': 'England',\n",
       "  'year': '2014'},\n",
       " {'number': '-',\n",
       "  'position': 'FW',\n",
       "  'name': 'Lee Keun-Ho',\n",
       "  'date_of_birth': '(1985-04-11)11 April 1985 (aged 29)',\n",
       "  'caps': '62',\n",
       "  'club': 'Sangju Sangmu',\n",
       "  'country': 'South Korea',\n",
       "  'club_country': 'South Korea',\n",
       "  'year': '2014'},\n",
       " {'number': '-',\n",
       "  'position': 'FW',\n",
       "  'name': 'Koo Ja-Cheol',\n",
       "  'date_of_birth': '(1989-02-27)27 February 1989 (aged 25)',\n",
       "  'caps': '35',\n",
       "  'club': 'Mainz 05',\n",
       "  'country': 'South Korea',\n",
       "  'club_country': 'Germany',\n",
       "  'year': '2014'},\n",
       " {'number': '-',\n",
       "  'position': 'FW',\n",
       "  'name': 'Kim Shin-Wook',\n",
       "  'date_of_birth': '(1988-04-14)14 April 1988 (aged 26)',\n",
       "  'caps': '26',\n",
       "  'club': 'Ulsan Hyundai',\n",
       "  'country': 'South Korea',\n",
       "  'club_country': 'South Korea',\n",
       "  'year': '2014'}]"
      ]
     },
     "execution_count": 70,
     "metadata": {},
     "output_type": "execute_result"
    }
   ],
   "source": [
    "SQUADS_DATA = players_as_dictionaries(SQUADS_DATA)\n",
    "SQUADS_DATA"
   ]
  },
  {
   "cell_type": "markdown",
   "id": "9087f647-70da-4e1b-8cf7-22d2f9b98b21",
   "metadata": {},
   "source": [
    "Assignment 2"
   ]
  },
  {
   "cell_type": "code",
   "execution_count": 71,
   "id": "811ea5a1-9b35-4887-aca2-b28fbd87f5ac",
   "metadata": {},
   "outputs": [
    {
     "data": {
      "text/plain": [
       "{'GK': [{'number': '1',\n",
       "   'position': 'GK',\n",
       "   'name': 'Juan Botasso',\n",
       "   'date_of_birth': '(1908-10-23)23 October 1908 (aged 21)',\n",
       "   'caps': '',\n",
       "   'club': 'Quilmes',\n",
       "   'country': 'Argentina',\n",
       "   'club_country': 'Argentina',\n",
       "   'year': '1930'},\n",
       "  {'number': '-',\n",
       "   'position': 'GK',\n",
       "   'name': 'Jean De Bie',\n",
       "   'date_of_birth': '(1892-05-09)9 May 1892 (aged 38)',\n",
       "   'caps': '37',\n",
       "   'club': 'Royal Racing Club de Bruxelles',\n",
       "   'country': 'Belgium',\n",
       "   'club_country': 'Belgium',\n",
       "   'year': '1930'}],\n",
       " 'FW': [{'number': '9',\n",
       "   'position': 'FW',\n",
       "   'name': 'Roberto Cherro',\n",
       "   'date_of_birth': '(1907-02-23)23 February 1907 (aged 23)',\n",
       "   'caps': '',\n",
       "   'club': 'Boca Juniors',\n",
       "   'country': 'Argentina',\n",
       "   'club_country': 'Argentina',\n",
       "   'year': '1930'},\n",
       "  {'number': '-',\n",
       "   'position': 'FW',\n",
       "   'name': 'Lee Keun-Ho',\n",
       "   'date_of_birth': '(1985-04-11)11 April 1985 (aged 29)',\n",
       "   'caps': '62',\n",
       "   'club': 'Sangju Sangmu',\n",
       "   'country': 'South Korea',\n",
       "   'club_country': 'South Korea',\n",
       "   'year': '2014'},\n",
       "  {'number': '-',\n",
       "   'position': 'FW',\n",
       "   'name': 'Koo Ja-Cheol',\n",
       "   'date_of_birth': '(1989-02-27)27 February 1989 (aged 25)',\n",
       "   'caps': '35',\n",
       "   'club': 'Mainz 05',\n",
       "   'country': 'South Korea',\n",
       "   'club_country': 'Germany',\n",
       "   'year': '2014'},\n",
       "  {'number': '-',\n",
       "   'position': 'FW',\n",
       "   'name': 'Kim Shin-Wook',\n",
       "   'date_of_birth': '(1988-04-14)14 April 1988 (aged 26)',\n",
       "   'caps': '26',\n",
       "   'club': 'Ulsan Hyundai',\n",
       "   'country': 'South Korea',\n",
       "   'club_country': 'South Korea',\n",
       "   'year': '2014'}],\n",
       " 'MF': [{'number': '-',\n",
       "   'position': 'MF',\n",
       "   'name': 'Pierre Braine',\n",
       "   'date_of_birth': '(1900-10-26)26 October 1900 (aged 29)',\n",
       "   'caps': '42',\n",
       "   'club': 'Royal Beerschot AC',\n",
       "   'country': 'Belgium',\n",
       "   'club_country': 'Belgium',\n",
       "   'year': '1930'},\n",
       "  {'number': '-',\n",
       "   'position': 'MF',\n",
       "   'name': 'Alexis Chantraine',\n",
       "   'date_of_birth': '(1901-03-16)16 March 1901 (aged 29)',\n",
       "   'caps': '0',\n",
       "   'club': 'Royal FC Liegeois',\n",
       "   'country': 'Belgium',\n",
       "   'club_country': 'Belgium',\n",
       "   'year': '1930'},\n",
       "  {'number': '-',\n",
       "   'position': 'MF',\n",
       "   'name': 'Oscar',\n",
       "   'date_of_birth': '(1991-09-09)9 September 1991 (aged 22)',\n",
       "   'caps': '29',\n",
       "   'club': 'Chelsea',\n",
       "   'country': 'Brazil',\n",
       "   'club_country': 'England',\n",
       "   'year': '2010'},\n",
       "  {'number': '-',\n",
       "   'position': 'MF',\n",
       "   'name': 'Paulinho',\n",
       "   'date_of_birth': '(1988-07-25)25 July 1988 (aged 25)',\n",
       "   'caps': '25',\n",
       "   'club': 'Tottenham Hotspur',\n",
       "   'country': 'Brazil',\n",
       "   'club_country': 'England',\n",
       "   'year': '2010'},\n",
       "  {'number': '-',\n",
       "   'position': 'MF',\n",
       "   'name': 'Hernanes',\n",
       "   'date_of_birth': '(1985-05-29)29 May 1985 (aged 29)',\n",
       "   'caps': '23',\n",
       "   'club': 'Internazionale',\n",
       "   'country': 'Brazil',\n",
       "   'club_country': 'Italy',\n",
       "   'year': '2014'},\n",
       "  {'number': '-',\n",
       "   'position': 'MF',\n",
       "   'name': 'Luiz Gustavo',\n",
       "   'date_of_birth': '(1987-07-23)23 July 1987 (aged 26)',\n",
       "   'caps': '17',\n",
       "   'club': 'VfL Wolfsburg',\n",
       "   'country': 'Brazil',\n",
       "   'club_country': 'Germany',\n",
       "   'year': '2014'},\n",
       "  {'number': '-',\n",
       "   'position': 'MF',\n",
       "   'name': 'Fernandinho',\n",
       "   'date_of_birth': '(1985-05-04)4 May 1985 (aged 29)',\n",
       "   'caps': '6',\n",
       "   'club': 'Manchester City',\n",
       "   'country': 'Brazil',\n",
       "   'club_country': 'England',\n",
       "   'year': '2014'},\n",
       "  {'number': '-',\n",
       "   'position': 'MF',\n",
       "   'name': 'Willian',\n",
       "   'date_of_birth': '(1988-08-09)9 August 1988 (aged 25)',\n",
       "   'caps': '5',\n",
       "   'club': 'Chelsea',\n",
       "   'country': 'Brazil',\n",
       "   'club_country': 'England',\n",
       "   'year': '2014'}]}"
      ]
     },
     "execution_count": 71,
     "metadata": {},
     "output_type": "execute_result"
    }
   ],
   "source": [
    "def players_by_position(squads_list):\n",
    "    player_dict = {}\n",
    "    for player in squads_list:\n",
    "        position = player['position']\n",
    "        player_dict.setdefault(position , [])\n",
    "        player_dict[position].append(player)\n",
    "    return player_dict\n",
    "\n",
    "players_grouped_position = players_by_position(SQUADS_DATA)\n",
    "players_grouped_position"
   ]
  },
  {
   "cell_type": "markdown",
   "id": "189fb23f-86cc-4903-bd0f-c6f254ad6878",
   "metadata": {},
   "source": [
    "Assignment 3"
   ]
  },
  {
   "cell_type": "code",
   "execution_count": 73,
   "id": "68524830-0fb8-439a-bfca-b6502e9693e7",
   "metadata": {},
   "outputs": [
    {
     "data": {
      "text/plain": [
       "{'Argentina': {'GK': {'number': '1',\n",
       "   'position': 'GK',\n",
       "   'name': 'Juan Botasso',\n",
       "   'date_of_birth': '(1908-10-23)23 October 1908 (aged 21)',\n",
       "   'caps': '',\n",
       "   'club': 'Quilmes',\n",
       "   'country': 'Argentina',\n",
       "   'club_country': 'Argentina',\n",
       "   'year': '1930'},\n",
       "  'FW': {'number': '9',\n",
       "   'position': 'FW',\n",
       "   'name': 'Roberto Cherro',\n",
       "   'date_of_birth': '(1907-02-23)23 February 1907 (aged 23)',\n",
       "   'caps': '',\n",
       "   'club': 'Boca Juniors',\n",
       "   'country': 'Argentina',\n",
       "   'club_country': 'Argentina',\n",
       "   'year': '1930'}},\n",
       " 'Belgium': {'MF': {'number': '-',\n",
       "   'position': 'MF',\n",
       "   'name': 'Alexis Chantraine',\n",
       "   'date_of_birth': '(1901-03-16)16 March 1901 (aged 29)',\n",
       "   'caps': '0',\n",
       "   'club': 'Royal FC Liegeois',\n",
       "   'country': 'Belgium',\n",
       "   'club_country': 'Belgium',\n",
       "   'year': '1930'},\n",
       "  'GK': {'number': '-',\n",
       "   'position': 'GK',\n",
       "   'name': 'Jean De Bie',\n",
       "   'date_of_birth': '(1892-05-09)9 May 1892 (aged 38)',\n",
       "   'caps': '37',\n",
       "   'club': 'Royal Racing Club de Bruxelles',\n",
       "   'country': 'Belgium',\n",
       "   'club_country': 'Belgium',\n",
       "   'year': '1930'}},\n",
       " 'Brazil': {'MF': {'number': '-',\n",
       "   'position': 'MF',\n",
       "   'name': 'Willian',\n",
       "   'date_of_birth': '(1988-08-09)9 August 1988 (aged 25)',\n",
       "   'caps': '5',\n",
       "   'club': 'Chelsea',\n",
       "   'country': 'Brazil',\n",
       "   'club_country': 'England',\n",
       "   'year': '2014'}},\n",
       " 'South Korea': {'FW': {'number': '-',\n",
       "   'position': 'FW',\n",
       "   'name': 'Kim Shin-Wook',\n",
       "   'date_of_birth': '(1988-04-14)14 April 1988 (aged 26)',\n",
       "   'caps': '26',\n",
       "   'club': 'Ulsan Hyundai',\n",
       "   'country': 'South Korea',\n",
       "   'club_country': 'South Korea',\n",
       "   'year': '2014'}}}"
      ]
     },
     "execution_count": 73,
     "metadata": {},
     "output_type": "execute_result"
    }
   ],
   "source": [
    "def players_by_country_and_position(squads_list):\n",
    "    group = {}\n",
    "    for player in squads_list:\n",
    "        country = player['country']\n",
    "        position = player['position']\n",
    "        if country not in group:\n",
    "            group[country] = {}\n",
    "        if position not in group[country]:\n",
    "            group[country][position] = {}\n",
    "        group[country][position] = player\n",
    "    return group\n",
    "\n",
    "group = players_by_country_and_position(SQUADS_DATA)\n",
    "group"
   ]
  },
  {
   "cell_type": "markdown",
   "id": "bdbe6a4f-6887-4153-a0fe-c455958e6eb7",
   "metadata": {},
   "source": [
    "**TEST ::**"
   ]
  },
  {
   "cell_type": "code",
   "execution_count": 74,
   "id": "34098e60-786c-4439-8d6d-70faf38d106f",
   "metadata": {},
   "outputs": [],
   "source": [
    "def test_assignment_1():\n",
    "    result = players_as_dictionaries(SQUADS_DATA)\n",
    "    assert len(result) == 14\n",
    "\n",
    "    assert result[0] == {\n",
    "        'caps': '',\n",
    "        'club': 'Quilmes',\n",
    "        'club_country': 'Argentina',\n",
    "        'country': 'Argentina',\n",
    "        'date_of_birth': '(1908-10-23)23 October 1908 (aged 21)',\n",
    "        'name': 'Juan Botasso',\n",
    "        'number': '1',\n",
    "        'position': 'GK',\n",
    "        'year': '1930'\n",
    "    }\n",
    "\n",
    "    assert result[1] == {\n",
    "        'caps': '',\n",
    "        'club': 'Boca Juniors',\n",
    "        'club_country': 'Argentina',\n",
    "        'country': 'Argentina',\n",
    "        'date_of_birth': '(1907-02-23)23 February 1907 (aged 23)',\n",
    "        'name': 'Roberto Cherro',\n",
    "        'number': '9',\n",
    "        'position': 'FW',\n",
    "        'year': '1930'\n",
    "    }\n",
    "\n",
    "    assert result[-1] == {\n",
    "        'caps': '26',\n",
    "        'club': 'Ulsan Hyundai',\n",
    "        'club_country': 'South Korea',\n",
    "        'country': 'South Korea',\n",
    "        'date_of_birth': '(1988-04-14)14 April 1988 (aged 26)',\n",
    "        'name': 'Kim Shin-Wook',\n",
    "        'number': '-',\n",
    "        'position': 'FW',\n",
    "        'year': '2014'\n",
    "    }\n",
    "\n",
    "\n",
    "# Assignment 2\n",
    "def test_assignment_2():\n",
    "    result = players_by_position(SQUADS_DATA)\n",
    "    assert len(result) == 3  # 3 positions\n",
    "\n",
    "    goalkeepers = result['GK']\n",
    "    assert len(goalkeepers) == 2\n",
    "\n",
    "    assert goalkeepers[0] == {\n",
    "        'caps': '',\n",
    "        'club': 'Quilmes',\n",
    "        'club_country': 'Argentina',\n",
    "        'country': 'Argentina',\n",
    "        'date_of_birth': '(1908-10-23)23 October 1908 (aged 21)',\n",
    "        'name': 'Juan Botasso',\n",
    "        'number': '1',\n",
    "        'position': 'GK',\n",
    "        'year': '1930'\n",
    "    }\n",
    "\n",
    "    midfielders = result['MF']\n",
    "    assert len(midfielders) == 8\n",
    "    assert midfielders[0] == {\n",
    "        'caps': '42',\n",
    "        'club': 'Royal Beerschot AC',\n",
    "        'club_country': 'Belgium',\n",
    "        'country': 'Belgium',\n",
    "        'date_of_birth': '(1900-10-26)26 October 1900 (aged 29)',\n",
    "        'name': 'Pierre Braine',\n",
    "        'number': '-',\n",
    "        'position': 'MF',\n",
    "        'year': '1930'\n",
    "    }\n",
    "\n",
    "    forwards = result['FW']\n",
    "    assert len(forwards) == 4\n",
    "\n",
    "    assert forwards[0] == {\n",
    "        'caps': '',\n",
    "        'club': 'Boca Juniors',\n",
    "        'club_country': 'Argentina',\n",
    "        'country': 'Argentina',\n",
    "        'date_of_birth': '(1907-02-23)23 February 1907 (aged 23)',\n",
    "        'name': 'Roberto Cherro',\n",
    "        'number': '9',\n",
    "        'position': 'FW',\n",
    "        'year': '1930'\n",
    "    }\n",
    "\n",
    "\n",
    "# Assignment 3\n",
    "def test_assignment_3():\n",
    "    result = players_by_country_and_position(SQUADS_DATA)\n",
    "    assert len(result) == 4\n",
    "\n",
    "    expected_countries = {'Argentina', 'Belgium', 'Brazil', 'South Korea'}\n",
    "    assert set(result.keys()) == expected_countries\n",
    "\n",
    "    # Argentina\n",
    "    argentina = result['Argentina']\n",
    "    assert len(argentina) == 2\n",
    "\n",
    "    ar_goalkeepers = argentina['GK']\n",
    "    ar_forwards = argentina['FW']\n",
    "    assert len(ar_goalkeepers) == 1\n",
    "    assert len(ar_forwards) == 1\n",
    "\n",
    "    # Brazil\n",
    "\n",
    "    brazil = result['Brazil']\n",
    "    assert len(brazil) == 1  # Only midfielders\n",
    "\n",
    "    br_midfielders = brazil['MF']\n",
    "    assert len(br_midfielders) == 6\n",
    "\n",
    "    assert br_midfielders[0] == {\n",
    "        'caps': '29',\n",
    "        'club': 'Chelsea',\n",
    "        'club_country': 'England',\n",
    "        'country': 'Brazil',\n",
    "        'date_of_birth': '(1991-09-09)9 September 1991 (aged 22)',\n",
    "        'name': 'Oscar',\n",
    "        'number': '-',\n",
    "        'position': 'MF',\n",
    "        'year': '2010'\n",
    "    }\n",
    "\n",
    "    assert br_midfielders[-1] == {\n",
    "        'caps': '5',\n",
    "        'club': 'Chelsea',\n",
    "        'club_country': 'England',\n",
    "        'country': 'Brazil',\n",
    "        'date_of_birth': '(1988-08-09)9 August 1988 (aged 25)',\n",
    "        'name': 'Willian',\n",
    "        'number': '-',\n",
    "        'position': 'MF',\n",
    "        'year': '2014'\n",
    "    }"
   ]
  },
  {
   "cell_type": "markdown",
   "id": "b7b4f831-5173-432f-9b23-89091c5a1538",
   "metadata": {},
   "source": [
    "**DONE** "
   ]
  }
 ],
 "metadata": {
  "kernelspec": {
   "display_name": "Python 3 (ipykernel)",
   "language": "python",
   "name": "python3"
  },
  "language_info": {
   "codemirror_mode": {
    "name": "ipython",
    "version": 3
   },
   "file_extension": ".py",
   "mimetype": "text/x-python",
   "name": "python",
   "nbconvert_exporter": "python",
   "pygments_lexer": "ipython3",
   "version": "3.12.4"
  }
 },
 "nbformat": 4,
 "nbformat_minor": 5
}
